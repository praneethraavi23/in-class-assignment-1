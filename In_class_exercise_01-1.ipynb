{
 "cells": [
  {
   "cell_type": "markdown",
   "metadata": {
    "colab_type": "text",
    "id": "view-in-github"
   },
   "source": [
    "<a href=\"https://colab.research.google.com/github/unt-iialab/INFO5731_Spring2020/blob/master/In_class_exercise/In_class_exercise_01.ipynb\" target=\"_parent\"><img src=\"https://colab.research.google.com/assets/colab-badge.svg\" alt=\"Open In Colab\"/></a>"
   ]
  },
  {
   "cell_type": "markdown",
   "metadata": {
    "colab_type": "text",
    "id": "DymRJbxDBCnf"
   },
   "source": [
    "# **The first In-class-exercise (01/25/2022, 40 points in total)**"
   ]
  },
  {
   "cell_type": "markdown",
   "metadata": {
    "colab_type": "text",
    "id": "03jb4GZsBkBS"
   },
   "source": [
    "(1) Write a Python program to calculate the length of a string. (4 points)"
   ]
  },
  {
   "cell_type": "code",
   "execution_count": 1,
   "metadata": {
    "colab": {},
    "colab_type": "code",
    "id": "YaGLbSHHB8Ej"
   },
   "outputs": [
    {
     "name": "stdout",
     "output_type": "stream",
     "text": [
      "Enter the Stringpraneeth\n",
      "8\n"
     ]
    }
   ],
   "source": [
    "# write your answer here\n",
    "id = input(\"Enter the String\")\n",
    "\n",
    "print(len(id))\n",
    "\n"
   ]
  },
  {
   "cell_type": "markdown",
   "metadata": {
    "colab_type": "text",
    "id": "jJDe71iLB616"
   },
   "source": [
    "(2) Write a Python program to count the number of characters in a string. (4 points)\n",
    "\n",
    "Sample String : 'google.com‘, \n",
    "\n",
    "Expected Result : {'o': 3, 'g': 2, '.': 1, 'e': 1, 'l': 1, 'm': 1, 'c': 1}"
   ]
  },
  {
   "cell_type": "code",
   "execution_count": 2,
   "metadata": {
    "colab": {},
    "colab_type": "code",
    "id": "MtKskTzbCLaU"
   },
   "outputs": [
    {
     "name": "stdout",
     "output_type": "stream",
     "text": [
      "presentation\n",
      "{'p': 1, 'r': 1, 'e': 2, 's': 1, 'n': 2, 't': 2, 'a': 1, 'i': 1, 'o': 1}\n"
     ]
    }
   ],
   "source": [
    "# write your answer here\n",
    "str=input()\n",
    "\n",
    "d={}\n",
    "for i in str:\n",
    "    if i in d:\n",
    "        d[i]+=1\n",
    "    else:\n",
    "        d[i]=1\n",
    "            \n",
    "print(d)\n"
   ]
  },
  {
   "cell_type": "markdown",
   "metadata": {
    "colab_type": "text",
    "id": "55W9AMdXCSpV"
   },
   "source": [
    "(3) Write a Python program to sum all the items in a list. (4 points)"
   ]
  },
  {
   "cell_type": "code",
   "execution_count": 3,
   "metadata": {
    "colab": {},
    "colab_type": "code",
    "id": "I57NXsauCec2"
   },
   "outputs": [
    {
     "name": "stdout",
     "output_type": "stream",
     "text": [
      "6\n"
     ]
    }
   ],
   "source": [
    "# write your answer here\n",
    "a = [1,2,3]\n",
    "sum = 0\n",
    "for i in a:\n",
    "    sum  += i\n",
    "\n",
    "    \n",
    "print(sum)\n"
   ]
  },
  {
   "cell_type": "markdown",
   "metadata": {
    "colab_type": "text",
    "id": "4ulBZ6yhCi9F"
   },
   "source": [
    "(4) Write a Python program to get a string from a given string where all occurrences of its first char have been changed to '\\$', except the first char itself. (4 points)\n",
    "\n",
    "Sample String : 'restart‘, \n",
    "\n",
    "Expected Result : 'resta\\$t'"
   ]
  },
  {
   "cell_type": "code",
   "execution_count": 4,
   "metadata": {
    "colab": {},
    "colab_type": "code",
    "id": "Fj0XhwbBCw2o"
   },
   "outputs": [
    {
     "name": "stdout",
     "output_type": "stream",
     "text": [
      "resta$t\n"
     ]
    }
   ],
   "source": [
    "# write your answer here\n",
    "st=\"restart\"\n",
    "c=st[0]\n",
    "res=c\n",
    "for i in range(1,len(st)):\n",
    "    if st[i]==c:\n",
    "        res+=\"$\"\n",
    "    else:\n",
    "            res+=st[i]\n",
    "            \n",
    "print(res)"
   ]
  },
  {
   "cell_type": "markdown",
   "metadata": {
    "colab_type": "text",
    "id": "_bIP7s1MCzue"
   },
   "source": [
    "(5) Write a program with python which could accept two parameter a and b to calculate and output the result of S, where \n",
    "\n",
    "$\\ S=3.14*(1+a/b)^3$ (4 points)\n",
    "\n"
   ]
  },
  {
   "cell_type": "code",
   "execution_count": 5,
   "metadata": {
    "colab": {},
    "colab_type": "code",
    "id": "w79QilHXD3Mg"
   },
   "outputs": [
    {
     "name": "stdout",
     "output_type": "stream",
     "text": [
      "9\n",
      "5\n",
      "68.92927999999999\n"
     ]
    }
   ],
   "source": [
    "# write your answer here\n",
    "a=int(input())\n",
    "b=int(input())\n",
    "\n",
    "s=3.14*((1+a/b))**3\n",
    "\n",
    "print(s)"
   ]
  },
  {
   "cell_type": "markdown",
   "metadata": {
    "colab_type": "text",
    "id": "xCa2bK9aD4Q3"
   },
   "source": [
    "(6) Write a Python program to concatenate following dictionaries to create a new one. (4 points)\n",
    "\n",
    "Sample Dictionary : dic1={1:10, 2:20}, dic2={3:30, 4:40}, dic3={5:50,6:60}, \n",
    "\n",
    "Expected Result : {1: 10, 2: 20, 3: 30, 4: 40, 5: 50, 6: 60}\n"
   ]
  },
  {
   "cell_type": "code",
   "execution_count": 6,
   "metadata": {
    "colab": {},
    "colab_type": "code",
    "id": "_z4aLqAbEET1"
   },
   "outputs": [
    {
     "name": "stdout",
     "output_type": "stream",
     "text": [
      "{5: 50, 6: 60, 3: 30, 4: 40, 1: 10, 2: 20}\n"
     ]
    }
   ],
   "source": [
    "# write your answer here\n",
    "dic1={1:10, 2:20}\n",
    "dic2={3:30, 4:40}\n",
    "dic3={5:50,6:60}\n",
    "\n",
    "dic2.update(dic1)\n",
    "\n",
    "dic3.update(dic2)\n",
    "\n",
    "print(dic3)"
   ]
  },
  {
   "cell_type": "markdown",
   "metadata": {
    "colab_type": "text",
    "id": "0v48Vqa7FrQh"
   },
   "source": [
    "(7) Write a Python program to check whether an element exists within a tuple. (4 points)"
   ]
  },
  {
   "cell_type": "code",
   "execution_count": 11,
   "metadata": {
    "colab": {},
    "colab_type": "code",
    "id": "7WEmgq-DF2P1"
   },
   "outputs": [
    {
     "name": "stdout",
     "output_type": "stream",
     "text": [
      "True\n"
     ]
    }
   ],
   "source": [
    "# write your answer here\n",
    "t=(1,2,3)\n",
    "x=3\n",
    "if x in t:\n",
    "     print(True)\n",
    "else:\n",
    "    print(False)\n",
    "      "
   ]
  },
  {
   "cell_type": "markdown",
   "metadata": {
    "colab_type": "text",
    "id": "vD5PYLMuGga_"
   },
   "source": [
    "(8) Write a Python program to find maximum and the minimum value in a set. (4 points)"
   ]
  },
  {
   "cell_type": "code",
   "execution_count": 8,
   "metadata": {
    "colab": {},
    "colab_type": "code",
    "id": "t0D5kdJUGjjw"
   },
   "outputs": [
    {
     "name": "stdout",
     "output_type": "stream",
     "text": [
      "3\n",
      "1\n"
     ]
    }
   ],
   "source": [
    "i={1,2,3}\n",
    "\n",
    "\n",
    "\n",
    "print(max(i))\n",
    "print(min(i))\n"
   ]
  },
  {
   "cell_type": "markdown",
   "metadata": {
    "colab_type": "text",
    "id": "uHkd-y5VhVWC"
   },
   "source": [
    "(9) Write a Python program to randomly divide the students in this class into six groups for term projects, each group should have at least 4 students but no more than 6 students (including 6). Here is the students list: (4 points)\n",
    "\n",
    "studnet_list = ['ja0964','sa1198','sb1357','vb0218','sc1229','kg0569','kg0470','sg1297','bg0320','fh0141','jl1252','sk1386',\n",
    "           'ak0956','sk1390','sk1458','sk1313','ak0934','vm0377','nm0618','sm1640','sm1907','gn0108','pr0353','dr0609','ms1500','aos0040','ds0814', 'av0659','nv0234','hy0232']"
   ]
  },
  {
   "cell_type": "code",
   "execution_count": 20,
   "metadata": {
    "colab": {},
    "colab_type": "code",
    "id": "3iGbmcOBhTwy"
   },
   "outputs": [
    {
     "name": "stdout",
     "output_type": "stream",
     "text": [
      "[['sb1357', 'sk1386', 'sk1313', 'sc1229'], ['kg0569', 'aos0040', 'ak0956', 'sa1198'], ['dr0609', 'kg0470', 'hy0232', 'nv0234'], ['sg1297', 'vb0218', 'ja0964', 'bg0320'], ['av0659', 'jl1252', 'sk1390', 'gn0108'], ['fh0141', 'ds0814', 'sm1640', 'sm1907', 'pr0353']]\n"
     ]
    }
   ],
   "source": [
    "# write your answer here\n",
    "import random\n",
    "studnet_list = ['ja0964','sa1198','sb1357','vb0218','sc1229','kg0569','kg0470','sg1297','bg0320','fh0141','jl1252','sk1386',\n",
    "                'ak0956','sk1390','sk1458','sk1313','ak0934','vm0377','nm0618','sm1640','sm1907','gn0108','pr0353','dr0609','ms1500','aos0040','ds0814','av0659','nv0234','hy0232']\n",
    "def listOf(l):\n",
    "    c = 0;\n",
    "    for i in l:\n",
    "         c+=1; \n",
    "    return c   \n",
    "groups =[];\n",
    "while listOf(studnet_list)>=6:\n",
    "        random.shuffle(studnet_list)\n",
    "        groups.append(studnet_list[:4])\n",
    "        studnet_list.pop(0)\n",
    "        studnet_list.pop(0)\n",
    "        studnet_list.pop(0)\n",
    "        studnet_list.pop(0)\n",
    "        studnet_list.pop(0)\n",
    "        \n",
    "    \n",
    "groups.append(studnet_list)\n",
    "print(groups)"
   ]
  },
  {
   "cell_type": "markdown",
   "metadata": {},
   "source": [
    "(10) Write a Python program to find the duplicate elements in a given array of integers. Return -1 If there are no such elements. (4 points)"
   ]
  },
  {
   "cell_type": "code",
   "execution_count": 12,
   "metadata": {},
   "outputs": [
    {
     "name": "stdout",
     "output_type": "stream",
     "text": [
      "1\n",
      "-1\n"
     ]
    }
   ],
   "source": [
    "# write your answer here\n",
    "l=list(map(int,input().split()))\n",
    "d={}\n",
    "x=True\n",
    "for i in l:\n",
    "    if i in d:\n",
    "        x=False\n",
    "        print(i,end=\"\")\n",
    "    else:\n",
    "        d[i]=0\n",
    "if x:\n",
    "    print(-1)"
   ]
  },
  {
   "cell_type": "markdown",
   "metadata": {},
   "source": [
    "(11) Write a Python program to select all the Sundays of a specified year. (4 extra points)"
   ]
  },
  {
   "cell_type": "code",
   "execution_count": 13,
   "metadata": {},
   "outputs": [
    {
     "name": "stdout",
     "output_type": "stream",
     "text": [
      "2000-01-02\n",
      "2000-01-09\n",
      "2000-01-16\n",
      "2000-01-23\n",
      "2000-01-30\n",
      "2000-02-06\n",
      "2000-02-13\n",
      "2000-02-20\n",
      "2000-02-27\n",
      "2000-03-05\n",
      "2000-03-12\n",
      "2000-03-19\n",
      "2000-03-26\n",
      "2000-04-02\n",
      "2000-04-09\n",
      "2000-04-16\n",
      "2000-04-23\n",
      "2000-04-30\n",
      "2000-05-07\n",
      "2000-05-14\n",
      "2000-05-21\n",
      "2000-05-28\n",
      "2000-06-04\n",
      "2000-06-11\n",
      "2000-06-18\n",
      "2000-06-25\n",
      "2000-07-02\n",
      "2000-07-09\n",
      "2000-07-16\n",
      "2000-07-23\n",
      "2000-07-30\n",
      "2000-08-06\n",
      "2000-08-13\n",
      "2000-08-20\n",
      "2000-08-27\n",
      "2000-09-03\n",
      "2000-09-10\n",
      "2000-09-17\n",
      "2000-09-24\n",
      "2000-10-01\n",
      "2000-10-08\n",
      "2000-10-15\n",
      "2000-10-22\n",
      "2000-10-29\n",
      "2000-11-05\n",
      "2000-11-12\n",
      "2000-11-19\n",
      "2000-11-26\n",
      "2000-12-03\n",
      "2000-12-10\n",
      "2000-12-17\n",
      "2000-12-24\n",
      "2000-12-31\n"
     ]
    }
   ],
   "source": [
    "# write your answer here\n",
    "from datetime import timedelta,date\n",
    "\n",
    "year=2000\n",
    "\n",
    "d=date(year,1,1)\n",
    "d+=timedelta(days=6-d.weekday())\n",
    "while d.year==year:\n",
    "    print(d)\n",
    "    d+=timedelta(days=7)\n",
    "    "
   ]
  },
  {
   "cell_type": "code",
   "execution_count": null,
   "metadata": {},
   "outputs": [],
   "source": []
  }
 ],
 "metadata": {
  "colab": {
   "collapsed_sections": [],
   "include_colab_link": true,
   "name": "In_class_exercise_01.ipynb",
   "provenance": []
  },
  "kernelspec": {
   "display_name": "Python 3 (ipykernel)",
   "language": "python",
   "name": "python3"
  },
  "language_info": {
   "codemirror_mode": {
    "name": "ipython",
    "version": 3
   },
   "file_extension": ".py",
   "mimetype": "text/x-python",
   "name": "python",
   "nbconvert_exporter": "python",
   "pygments_lexer": "ipython3",
   "version": "3.9.7"
  }
 },
 "nbformat": 4,
 "nbformat_minor": 1
}
